{
  "nbformat": 4,
  "nbformat_minor": 0,
  "metadata": {
    "colab": {
      "provenance": [],
      "authorship_tag": "ABX9TyNFEBy9qxsOlG2BcbBZYLZC",
      "include_colab_link": true
    },
    "kernelspec": {
      "name": "python3",
      "display_name": "Python 3"
    },
    "language_info": {
      "name": "python"
    }
  },
  "cells": [
    {
      "cell_type": "markdown",
      "metadata": {
        "id": "view-in-github",
        "colab_type": "text"
      },
      "source": [
        "<a href=\"https://colab.research.google.com/github/JeniferThangam/Coding-Raja-Technologies-Internship-Task-1/blob/main/Movie_Recommendation_Systemi_pynb.ipynb\" target=\"_parent\"><img src=\"https://colab.research.google.com/assets/colab-badge.svg\" alt=\"Open In Colab\"/></a>"
      ]
    },
    {
      "cell_type": "code",
      "execution_count": null,
      "metadata": {
        "id": "vDMVFm6XbQpF"
      },
      "outputs": [],
      "source": [
        "import numpy as np\n",
        "import pandas as pd\n",
        "import difflib\n",
        "from sklearn.feature_extraction.text import TfidfVectorizer\n",
        "from sklearn.metrics.pairwise import cosine_similarity\n"
      ]
    },
    {
      "cell_type": "code",
      "source": [
        "movies_data = pd.read_csv('/content/netflix_titles.csv')\n",
        "movies_data.head()\n",
        "movies_data.shape\n",
        "\n",
        "selected_features = ['cast','rating','description','director']\n",
        "\n",
        "for feature in selected_features:\n",
        "  movies_data[feature] = movies_data[feature].fillna('')\n",
        "\n",
        "combine_features = movies_data['cast'] +  '' + movies_data['rating'] + '' + movies_data['description'] + '' + movies_data['director']\n",
        "\n",
        "vectorizer = TfidfVectorizer()\n",
        "feature_vectors = vectorizer.fit_transform(combine_features)\n",
        "\n",
        "similarity = cosine_similarity(feature_vectors)\n",
        "\n",
        "movie_name = input(\"Enter your favourite movie : \")\n",
        "list_of_all_movies = movies_data['title'].tolist()\n",
        "\n",
        "find_close_matches = difflib.get_close_matches(movie_name,list_of_all_movies)\n",
        "close_match = find_close_matches[0]\n",
        "\n",
        "\n",
        "index_of_the_movie = movies_data[movies_data.title == close_match]['release_year'].values[0]\n",
        "\n",
        "similarity_score = list(enumerate(similarity[index_of_the_movie]))\n",
        "\n",
        "sorted_similar_movies = sorted(similarity_score, key = lambda x:x[1], reverse = True)\n",
        "\n",
        "print('Movies suggested for you : \\n')\n",
        "i = 1\n",
        "for movie in sorted_similar_movies:\n",
        "  index = movie[0]\n",
        "  title_from_index = movies_data[movies_data.index==index]['title'].values[0]\n",
        "  if (i<40):\n",
        "    print(i, '.',title_from_index)\n",
        "    i+=1"
      ],
      "metadata": {
        "colab": {
          "base_uri": "https://localhost:8080/"
        },
        "id": "j2pGiNvWtVnJ",
        "outputId": "2fb21a81-7ef8-486a-aa39-35690a9b6cbb"
      },
      "execution_count": null,
      "outputs": [
        {
          "output_type": "stream",
          "name": "stdout",
          "text": [
            "Enter your favourite movie : jeans\n",
            "Movies suggested for you : \n",
            "\n",
            "1 . Call the Midwife\n",
            "2 . St. Agatha\n",
            "3 . Twirlywoos\n",
            "4 . The Danish Girl\n",
            "5 . Queen of the Desert\n",
            "6 . Howards End\n",
            "7 . The Crown\n",
            "8 . W.E.\n",
            "9 . The Nutcracker and the Four Realms\n",
            "10 . Best of Stand-Up 2020\n",
            "11 . Daughters of Destiny\n",
            "12 . Grizzlies\n",
            "13 . The Netflix Afterparty: The Best Shows of The Worst Year\n",
            "14 . New Girl\n",
            "15 . Solo\n",
            "16 . Logan's Run\n",
            "17 . Rica, Famosa, Latina\n",
            "18 . Historia de un clan\n",
            "19 . What She Put on the Table\n",
            "20 . Hidden in Plain Sight\n",
            "21 . Ariana grande: excuse me, i love you\n",
            "22 . The Polka King\n",
            "23 . The Secret Life of Pets 2\n",
            "24 . Valentine's Day\n",
            "25 . All Day and a Night\n",
            "26 . Kevin Hart: What Now?\n",
            "27 . The Queen\n",
            "28 . Ripper Street\n",
            "29 . Droppin' Cash: Los Angeles\n",
            "30 . The L Word\n",
            "31 . Scales: Mermaids Are Real\n",
            "32 . Heidi, bienvenida a casa\n",
            "33 . City of Tiny Lights\n",
            "34 . London Hughes: To Catch a D*ck\n",
            "35 . Alakada Reloaded\n",
            "36 . Marcella\n",
            "37 . Biking Borders\n",
            "38 . Love Is Blind\n",
            "39 . Unfinished Song\n"
          ]
        }
      ]
    }
  ]
}